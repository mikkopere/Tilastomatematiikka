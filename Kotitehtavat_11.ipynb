{
 "cells": [
  {
   "cell_type": "code",
   "execution_count": 1,
   "metadata": {},
   "outputs": [],
   "source": [
    "import numpy as np\n",
    "import matplotlib.pyplot as plt\n",
    "import scipy.stats as stats"
   ]
  },
  {
   "cell_type": "markdown",
   "metadata": {},
   "source": [
    "# Luku 12.2.2"
   ]
  },
  {
   "cell_type": "markdown",
   "metadata": {},
   "source": [
    "## Tehtävä 1"
   ]
  },
  {
   "cell_type": "code",
   "execution_count": 9,
   "metadata": {},
   "outputs": [
    {
     "name": "stdout",
     "output_type": "stream",
     "text": [
      "511.3333333333333 511.3333333333333\n"
     ]
    }
   ],
   "source": [
    "data1 = np.array([1210, 703, 1162, 817, 868, 221,\n",
    "                811, 188, 585, 348, 130, 97,\n",
    "                229, 296, 194, 750, 97, 498])\n",
    "n = len(data1)\n",
    "mu = np.sum(data1)/n\n",
    "print(mu, np.mean(data1))"
   ]
  },
  {
   "cell_type": "markdown",
   "metadata": {},
   "source": [
    "## Tehtävä 2"
   ]
  },
  {
   "cell_type": "code",
   "execution_count": 10,
   "metadata": {},
   "outputs": [
    {
     "name": "stdout",
     "output_type": "stream",
     "text": [
      "119.12 61.65326315789475\n",
      "119.12 61.65326315789475\n"
     ]
    }
   ],
   "source": [
    "data2 = np.array([124.0, 122.6, 97.8, 128.5, 126.5,\n",
    "                 107.4, 113.2, 129.9, 118.2, 117.3,\n",
    "                 117.6, 116.7, 113.6, 125.9, 117.1,\n",
    "                 126.0, 112.4, 118.7, 126.3, 122.7])\n",
    "n = len(data2)\n",
    "mu = np.sum(data2)/n\n",
    "s2 = np.sum((data2 - mu)**2)/(n-1)\n",
    "print(mu, s2)\n",
    "print(np.mean(data2), np.var(data2, ddof=1))"
   ]
  },
  {
   "cell_type": "markdown",
   "metadata": {},
   "source": [
    "# Luku 12.2.3"
   ]
  },
  {
   "cell_type": "markdown",
   "metadata": {},
   "source": [
    "## Tehtävä 1"
   ]
  },
  {
   "cell_type": "code",
   "execution_count": 21,
   "metadata": {},
   "outputs": [
    {
     "name": "stdout",
     "output_type": "stream",
     "text": [
      "95%:n luottamusväli on (97.79016029275054, 102.40983970724947)\n",
      "99%:n luottamusväli on (97.0643560538026, 103.13564394619742)\n",
      "99.9%:n luottamusväli on (96.22207705747743, 103.97792294252258)\n"
     ]
    }
   ],
   "source": [
    "data3 = np.array([97.0, 103.3, 96.2, 93.8, 103.9, 96.4,\n",
    "                 101.5, 104.1, 107.7, 100.3, 93.4, 98.5,\n",
    "                 102.1, 98.6, 104.8, 103.7, 97.3, 99.2])\n",
    "n = len(data3)\n",
    "mu = np.sum(data3)/n\n",
    "s = np.sqrt(25)\n",
    "\n",
    "z_95 = stats.norm.ppf(q=0.975)\n",
    "z_99 = stats.norm.ppf(q=0.995)\n",
    "z_999 = stats.norm.ppf(q=0.9995)\n",
    "\n",
    "print('95%:n luottamusväli on ({0}, {1})'.format(x_mean - z_95*s/np.sqrt(n), \n",
    "                                              x_mean + z_95*s/np.sqrt(n)))\n",
    "\n",
    "print('99%:n luottamusväli on ({0}, {1})'.format(x_mean - z_99*s/np.sqrt(n), \n",
    "                                              x_mean + z_99*s/np.sqrt(n)))\n",
    "\n",
    "print('99.9%:n luottamusväli on ({0}, {1})'.format(x_mean - z_999*s/np.sqrt(n), \n",
    "                                              x_mean + z_999*s/np.sqrt(n)))"
   ]
  },
  {
   "cell_type": "markdown",
   "metadata": {},
   "source": [
    "## Tehtävä 2"
   ]
  },
  {
   "cell_type": "code",
   "execution_count": 26,
   "metadata": {},
   "outputs": [
    {
     "name": "stdout",
     "output_type": "stream",
     "text": [
      "95%:n luottamusväli on [169.92032413913952, 205.19967586086048]\n"
     ]
    }
   ],
   "source": [
    "data4 = np.array([166, 212, 215, 193, 161,\n",
    "                 153, 147, 155, 223, 182, \n",
    "                 258, 172, 153, 188, 179, \n",
    "                 136, 169, 147, 209, 204,\n",
    "                 196, 244, 166, 252, 209])\n",
    "n = np.size(data4)\n",
    "\n",
    "z_95 = stats.norm.ppf(q=0.975)\n",
    "s = 45\n",
    "\n",
    "l1 = np.mean(data4) - z_95*s/np.sqrt(n)\n",
    "l2 = np.mean(data4) + z_95*s/np.sqrt(n)\n",
    "print('95%:n luottamusväli on [{0}, {1}]'.format(l1, l2))"
   ]
  },
  {
   "cell_type": "markdown",
   "metadata": {},
   "source": [
    "Odotusarvo $\\mu = 200$d kuuluu luottamusvälille, joten tehostamistoimenpiteilläei ole ollut ainakaan merkittävää vaikutusta."
   ]
  },
  {
   "cell_type": "markdown",
   "metadata": {},
   "source": [
    "## Tehtävä 4"
   ]
  },
  {
   "cell_type": "code",
   "execution_count": 27,
   "metadata": {},
   "outputs": [
    {
     "name": "stdout",
     "output_type": "stream",
     "text": [
      "95%:n luottamusväli on (48.19713462671501, 54.742865373285)\n",
      "99%:n luottamusväli on (46.99635155388604, 55.94364844611397)\n",
      "99.9%:n luottamusväli on (45.39751148348365, 57.542488516516364)\n"
     ]
    }
   ],
   "source": [
    "x = np.array([44.6, 47.2, 61.9, 52.9, 36.9, \n",
    "              55.2, 50.6, 57.7, 44.5, 63.5, \n",
    "              48.9, 61.2, 50.5, 45.3, 59.9, \n",
    "              43.9, 48.0, 51.5, 50.3, 54.9])\n",
    "\n",
    "n = np.size(x)\n",
    "x_mean = np.mean(x)\n",
    "s = np.std(x, ddof=1)\n",
    "t_95 = stats.t.ppf(q=0.975, df=n-1)\n",
    "t_99 = stats.t.ppf(q=0.995, df=n-1)\n",
    "t_999 = stats.t.ppf(q=0.9995, df=n-1)\n",
    "\n",
    "\n",
    "print('95%:n luottamusväli on ({0}, {1})'.format(x_mean-t_95*s/np.sqrt(n), \n",
    "                                              x_mean+t_95*s/np.sqrt(n)))\n",
    "\n",
    "print('99%:n luottamusväli on ({0}, {1})'.format(x_mean-t_99*s/np.sqrt(n), \n",
    "                                              x_mean+t_99*s/np.sqrt(n)))\n",
    "\n",
    "print('99.9%:n luottamusväli on ({0}, {1})'.format(x_mean-t_999*s/np.sqrt(n), \n",
    "                                              x_mean+t_999*s/np.sqrt(n)))"
   ]
  },
  {
   "cell_type": "markdown",
   "metadata": {},
   "source": [
    "## Tehtävä 6"
   ]
  },
  {
   "cell_type": "code",
   "execution_count": 40,
   "metadata": {},
   "outputs": [
    {
     "name": "stdout",
     "output_type": "stream",
     "text": [
      "99%:n luottamusväli on [18.844650048217026, 20.525720322153333]\n"
     ]
    }
   ],
   "source": [
    "x = np.array([17.6, 21.4, 21.5, 19.3, 20.7, 18.1, 23.1, 20.2, 21.5, \n",
    "             23.8, 21.0, 16.9, 19.3, 20.0, 19.1, 20.0, 16.5, 18.8, \n",
    "             19.1, 17.0, 17.6, 20.4, 17.0, 18.5, 24.4, 20.4, 18.3])\n",
    "n = np.size(x)\n",
    "t_99 = stats.t.ppf(q=0.995, df=n-1)\n",
    "z_99 = stats.norm.ppf(q=0.995)\n",
    "\n",
    "s = np.std(x, ddof=1)\n",
    "\n",
    "l1 = np.mean(x) - t_95*s/np.sqrt(n)\n",
    "l2 = np.mean(x) + t_95*s/np.sqrt(n)\n",
    "print('99%:n luottamusväli on [{0}, {1}]'.format(l1, l2))"
   ]
  },
  {
   "cell_type": "code",
   "execution_count": 41,
   "metadata": {},
   "outputs": [
    {
     "name": "stdout",
     "output_type": "stream",
     "text": [
      "2.7787145333289134 2.0867169104570613 840.5333405024946 722.2727646748439\n"
     ]
    }
   ],
   "source": [
    "print(t_99, s, (2*t_99*s/0.4)**2, (2*z_99*s/0.4)**2)"
   ]
  },
  {
   "cell_type": "code",
   "execution_count": null,
   "metadata": {},
   "outputs": [],
   "source": []
  },
  {
   "cell_type": "code",
   "execution_count": null,
   "metadata": {},
   "outputs": [],
   "source": []
  },
  {
   "cell_type": "code",
   "execution_count": null,
   "metadata": {},
   "outputs": [],
   "source": []
  }
 ],
 "metadata": {
  "kernelspec": {
   "display_name": "Python 3",
   "language": "python",
   "name": "python3"
  },
  "language_info": {
   "codemirror_mode": {
    "name": "ipython",
    "version": 3
   },
   "file_extension": ".py",
   "mimetype": "text/x-python",
   "name": "python",
   "nbconvert_exporter": "python",
   "pygments_lexer": "ipython3",
   "version": "3.6.6"
  }
 },
 "nbformat": 4,
 "nbformat_minor": 2
}
